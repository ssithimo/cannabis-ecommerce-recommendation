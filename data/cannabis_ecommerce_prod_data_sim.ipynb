{
  "nbformat": 4,
  "nbformat_minor": 0,
  "metadata": {
    "colab": {
      "provenance": []
    },
    "kernelspec": {
      "name": "python3",
      "display_name": "Python 3"
    },
    "language_info": {
      "name": "python"
    }
  },
  "cells": [
    {
      "cell_type": "code",
      "execution_count": null,
      "metadata": {
        "id": "qk33gLUgY80f"
      },
      "outputs": [],
      "source": []
    },
    {
      "cell_type": "markdown",
      "source": [
        "# Assumptions for Simulated Cannabis E-Commerce Dataset (100 rows)\n",
        "\n",
        "---\n",
        "\n",
        "##1. Product Attributes\n",
        "- Product ID: Unique identifier (e.g., \"p001\", \"p002\", ...)\n",
        "- Product Name:\n",
        "  - Varies by strain + format + quantity (e.g., \"OG Kush 1/8 oz\", \"Blue Dream Vape Cartridge 500mg\")\n",
        "  - Includes common cannabis strain names (OG Kush, Blue Dream, Girl Scout Cookies, etc.)\n",
        "  - Product types: flower, vape, edible, concentrate\n",
        "  - Naming inconsistencies (e.g., \"OG Kush 1/8 oz\" vs. \"OG Kush Eighth\", or typos)\n",
        "\n",
        "- Category:\n",
        "    - “Hybrid Flower”, “Sativa Flower”, “Indica Flower”, “Vape Cartridge”, “Edible”, “Concentrate”\n",
        "- Vendor Name: Simulate ~10 different vendors with realistic names\n",
        "- THC %: Range from ~15% to 30% for flowers, or potency in mg for vapes/edibles (e.g., 500mg THC)\n",
        "- CBD %: Range from 0% to 5% typically\n",
        "- Price: Based on product type and quantity, e.g., $20-$60 for 1/8 oz flower, $30-$60 for vape cartridges\n",
        "- Availability: Boolean or inventory count (e.g., 0-100 units)\n",
        "- Description: Short text with strain effects, flavor notes, or product benefits (semi-randomized)\n",
        "- Tags: List of keywords (e.g., “relaxing”, “uplifting”, “citrus”, “pain relief”)\n",
        "- Date Added: Recent date within last 6 months\n",
        "\n",
        "## 2. Data Inconsistencies / Noise\n",
        "- Include misspellings or alternate product names\n",
        "- Random missing values for THC% or CBD% (to simulate real messy data)\n",
        "- Some products have incomplete descriptions\n",
        "- Vendor names may vary slightly (e.g., “GreenLeaf Co.” vs “Green Leaf Co.”)\n",
        "- Categories sometimes mislabeled or abbreviated (“Sativa”, “Indica”, “Hybrid”, “Vape”, etc.)\n",
        "\n",
        "## 3. Relational Structure\n",
        "- Products linked to vendors and categories\n",
        "- Multiple products from same vendor with slight variations\n",
        "- Some duplicate or near-duplicate products (to test similarity matching)"
      ],
      "metadata": {
        "id": "XQtu4JfVZIiK"
      }
    },
    {
      "cell_type": "code",
      "source": [
        "# import libraries\n",
        "import random\n",
        "import numpy as np\n",
        "import pandas as pd\n",
        "from datetime import datetime, timedelta"
      ],
      "metadata": {
        "id": "FOEQl-UEaD6-"
      },
      "execution_count": null,
      "outputs": []
    },
    {
      "cell_type": "code",
      "source": [
        "# set random seeds for reproducibility\n",
        "random.seed(42)\n",
        "np.random.seed(42)"
      ],
      "metadata": {
        "id": "ofKVfoB3aNHf"
      },
      "execution_count": null,
      "outputs": []
    },
    {
      "cell_type": "code",
      "source": [
        "# lists that hold common strains, product categories, vendors, and tags that\n",
        "# reflect a realistic cannabis e-commerce environment.\n",
        "\n",
        "strains = [\n",
        "    \"OG Kush\", \"Blue Dream\", \"Girl Scout Cookies\", \"Sour Diesel\", \"Maui Wowie\",\n",
        "    \"Wedding Cake\", \"Pineapple Express\", \"Purple Urcle\", \"Green Crack\",\n",
        "    \"Jack Herer\", \"Lemon Cherry\", \"Ice Cream Cake\", \"CA Gold Rush\"]\n",
        "\n",
        "strain_types = [\"Indica\", \"Hybrid\", \"Sativa\"]\n",
        "\n",
        "categories = [\"Flower\", \"Vape Cartridge\", \"Edible\", \"Concentrate\"]\n",
        "\n",
        "tags_by_strain = {\n",
        "    \"Indica\": [\"relaxing\", \"sleepy\", \"pain relief\",\n",
        "               \"calming\", \"sedative\", \"body high\"],\n",
        "    \"Sativa\": [\"uplifting\", \"energetic\", \"creative\",\n",
        "               \"focused\", \"euphoric\", \"cerebral\"],\n",
        "    \"Hybrid\": [\"relaxing\", \"sleepy\", \"pain relief\", \"calming\",\n",
        "               \"uplifting\", \"energetic\", \"creative\", \"focused\", \"euphoric\"] }\n",
        "vendors = [\n",
        "    \"GreenLeaf Co.\", \"Herbal Haven\", \"CannaWorld\", \"Bud Masters\",\n",
        "    \"Elevate Extracts\", \"Pure Bloom\", \"Zen Garden\", \"Happy Trails\",\n",
        "    \"Emerald Fields\", \"Sunset Wellness\" ]\n"
      ],
      "metadata": {
        "id": "rKDw5I4jbSEB"
      },
      "execution_count": null,
      "outputs": []
    },
    {
      "cell_type": "code",
      "source": [
        "# create fct to assign tags based on strain type choose 2 to 5 tags\n",
        "\n",
        "def assign_tags(strain_type):\n",
        "    possible_tags = tags_by_strain[strain_type]\n",
        "    n_tags = random.randint(2, 5)\n",
        "    return random.sample(possible_tags, k = n_tags)"
      ],
      "metadata": {
        "id": "thVh_1QWlO3z"
      },
      "execution_count": null,
      "outputs": []
    },
    {
      "cell_type": "code",
      "source": [
        "# create fct to simulate thc level based on category and strain type\n",
        "\n",
        "def simulate_thc(category, strain_type):\n",
        "    thc_ranges = {\n",
        "        \"Flower\": (15, 30),\n",
        "        \"Vape Cartridge\": (50, 90),\n",
        "        \"Edible\": (5, 20),\n",
        "        \"Concentrate\": (70, 90) }\n",
        "\n",
        "    low, high = thc_ranges.get(category, (10, 25)) # if no category uses 10, 25\n",
        "    if strain_type == \"Indica\":\n",
        "        high = max(low, high - 5)  # indicas slightly lower thc\n",
        "    elif strain_type == \"Sativa\":\n",
        "        high = min(100, high + 5)  # sativas higher but no more than 100\n",
        "    # hybrid no change\n",
        "    return round(random.uniform(low, high), 1)"
      ],
      "metadata": {
        "id": "ls06QZ9ZlqBa"
      },
      "execution_count": null,
      "outputs": []
    },
    {
      "cell_type": "code",
      "source": [
        "# create fct to assign potency mg based on category\n",
        "\n",
        "def random_potency_mg(category):\n",
        "    if category in [\"Vape Cartridge\", \"Concentrate\"]:\n",
        "        return random.choice([250, 500, 750, 1000])\n",
        "    elif category == \"Edible\":\n",
        "        return random.choice([10, 25, 50, 100])\n",
        "    else:\n",
        "        return None"
      ],
      "metadata": {
        "id": "HjUqmCHBpx1t"
      },
      "execution_count": null,
      "outputs": []
    },
    {
      "cell_type": "code",
      "source": [
        "# create fct to generate random cbd %, mostly low values\n",
        "\n",
        "def random_cbd():\n",
        "    if random.random() < 0.8:\n",
        "        return round(random.uniform(0, 2), 1)\n",
        "    else:\n",
        "        return round(random.uniform(2, 5), 1)\n"
      ],
      "metadata": {
        "id": "JH1rSx9cqXUo"
      },
      "execution_count": null,
      "outputs": []
    },
    {
      "cell_type": "code",
      "source": [
        "# generate prod names variants with some noisy variations\n",
        "# create name variants with with alt spellings, lowercase, hyphens\n",
        "# strain qty listed twice to increase chance of selection\n",
        "\n",
        "def random_product_name(strain, category, qty):\n",
        "    name_variants = [\n",
        "        f\"{strain} {qty}\",\n",
        "        f\"{strain} {qty}\",\n",
        "        f\"{strain} {qty}\".replace(\"1/8 oz\", \"Eighth\"),\n",
        "        f\"{strain} {qty}\".replace(\"500mg\", \"Half Gram\"),\n",
        "        f\"{strain} {qty}\".replace(\"1000mg\", \"One Gram\"),\n",
        "        f\"{strain} - {qty}\",\n",
        "        f\"{strain} {qty}\".lower() if random.random() < 0.5 else f\"{strain} {qty}\",\n",
        "        None ]\n",
        "\n",
        "    # filter out None values and pick randomly\n",
        "    name_variants = [n for n in name_variants if n is not None]\n",
        "    return random.choice(name_variants)"
      ],
      "metadata": {
        "id": "9fRId0vpbrTn"
      },
      "execution_count": null,
      "outputs": []
    },
    {
      "cell_type": "code",
      "source": [
        "# create fct to assign quantity string based on category\n",
        "def assign_quantity(category):\n",
        "    if category == \"Flower\":\n",
        "        return random.choice([\"1/8 oz\", \"3.5g\", \"7g\"])\n",
        "    elif category == \"Vape Cartridge\" or category == \"Concentrate\":\n",
        "        return random.choice([\"500mg\", \"1000mg\"])\n",
        "    elif category == \"Edible\":\n",
        "        return random.choice([\"10 pieces\", \"20 pieces\", \"50 pieces\",\n",
        "                              \"100g\", \"200g\"])\n",
        "    else:\n",
        "        return None"
      ],
      "metadata": {
        "id": "_JMxCv3OnxDb"
      },
      "execution_count": null,
      "outputs": []
    },
    {
      "cell_type": "code",
      "source": [
        "# creat fct to est price based on category and quantity with noise\n",
        "def random_price(category, qty):\n",
        "    base_prices = {\n",
        "        \"Flower\": 40,\n",
        "        \"Vape Cartridge\": 45,\n",
        "        \"Edible\": 25,\n",
        "        \"Concentrate\": 50 }\n",
        "\n",
        "    price = base_prices.get(category, 40)\n",
        "    if qty:\n",
        "        if \"g\" in qty or \"oz\" in qty:\n",
        "            if \"1/8\" in qty or \"eighth\" in qty.lower():\n",
        "                price *= 1\n",
        "            elif \"3.5\" in qty:\n",
        "                price *= 1.5\n",
        "            elif \"7\" in qty:\n",
        "                price *= 2.5\n",
        "        elif \"mg\" in qty:\n",
        "            try:\n",
        "                mg = int(''.join(filter(str.isdigit, qty)))\n",
        "                price = price * mg / 500\n",
        "            except:\n",
        "                pass\n",
        "\n",
        "    # add random variation +/- 10%\n",
        "\n",
        "    price = price * random.uniform(0.9, 1.1)\n",
        "    return round(price, 2)"
      ],
      "metadata": {
        "id": "90Cfq1zmqhkV"
      },
      "execution_count": null,
      "outputs": []
    },
    {
      "cell_type": "code",
      "source": [
        "# create fct to generate random availability with some out of stock cases\n",
        "# if the number generator is less than 0.05, return 0\n",
        "# if the number generator is less than 0.10 but greater than 0.05, return a number from 1 to 99\n",
        "# else, return a number from 100 t0 1000\n",
        "\n",
        "def random_availability():\n",
        "    rand_num = random.random()\n",
        "    if rand_num < 0.05:\n",
        "        return 0\n",
        "    elif rand_num < 0.20:\n",
        "        return random.randint(1, 99)\n",
        "    else:\n",
        "        return random.randint(100, 1000)"
      ],
      "metadata": {
        "id": "6OI7DeKhrE6z"
      },
      "execution_count": null,
      "outputs": []
    },
    {
      "cell_type": "code",
      "source": [
        "# create fct to generate a random date in last 6 months\n",
        "\n",
        "def random_date():\n",
        "    start = datetime.today() - timedelta(days=180)\n",
        "    return start + timedelta(days=random.randint(0, 180))"
      ],
      "metadata": {
        "id": "ZrMGvO-IrKHU"
      },
      "execution_count": null,
      "outputs": []
    },
    {
      "cell_type": "code",
      "source": [
        "# initialize list to hold product rows\n",
        "\n",
        "rows = []"
      ],
      "metadata": {
        "id": "Jeic-xfyrd9M"
      },
      "execution_count": null,
      "outputs": []
    },
    {
      "cell_type": "code",
      "source": [
        "# generate 100 product rows\n",
        "\n",
        "for i in range(1, 101):\n",
        "    # pick a category randomly\n",
        "    category = random.choice(categories)\n",
        "\n",
        "    # pick a strain randomly\n",
        "    strain = random.choice(strains)\n",
        "\n",
        "    # assign strain type randomly, but realistically you could map strains to types\n",
        "    strain_type = random.choice(strain_types)\n",
        "\n",
        "    # assign quantity string based on category\n",
        "    qty = assign_quantity(category)\n",
        "\n",
        "    # generate product name with noise\n",
        "    name = random_product_name(strain, category, qty)\n",
        "\n",
        "    # pick a vendor randomly\n",
        "    vendor = random.choice(vendors)\n",
        "\n",
        "    # simulate thc level based on category and strain type\n",
        "    thc = simulate_thc(category, strain_type)\n",
        "\n",
        "    # generate cbd %\n",
        "    cbd = random_cbd() if random.random() > 0.05 else None\n",
        "\n",
        "    # assign potency mg if applicable\n",
        "    potency_mg = random_potency_mg(category)\n",
        "\n",
        "    # estimate price based on category and quantity\n",
        "    price = random_price(category, qty or (str(potency_mg) + \"mg\" if potency_mg else None))\n",
        "\n",
        "    # assign tags based on strain type\n",
        "    tags = assign_tags(strain_type)\n",
        "\n",
        "    # availability count\n",
        "    availability = random_availability()\n",
        "\n",
        "    # date added field\n",
        "    date_added = random_date().strftime('%Y-%m-%d')\n",
        "\n",
        "    # optional description (simplified)\n",
        "    description = f\"{strain} {strain_type} {category.lower()} with {', '.join(tags)}.\"\n",
        "    if random.random() < 0.1:\n",
        "        description = None  # simulate missing descriptions\n",
        "\n",
        "    # append dictionary for one product row\n",
        "    rows.append({\n",
        "        \"product_id\": f\"p{i:03d}\",\n",
        "        \"name\": name,\n",
        "        \"category\": category,\n",
        "        \"strain_type\": strain_type,\n",
        "        \"strain\": strain,\n",
        "        \"vendor\": vendor,\n",
        "        \"THC_pct\": thc,\n",
        "        \"CBD_pct\": cbd,\n",
        "        \"potency_mg\": potency_mg,\n",
        "        \"price_usd\": price,\n",
        "        \"availability\": availability,\n",
        "        \"description\": description,\n",
        "        \"tags\": tags,\n",
        "        \"date_added\": date_added\n",
        "    })"
      ],
      "metadata": {
        "id": "yWQPe6HqrSc9"
      },
      "execution_count": null,
      "outputs": []
    },
    {
      "cell_type": "code",
      "source": [
        "# convert to df\n",
        "\n",
        "df = pd.DataFrame(rows)"
      ],
      "metadata": {
        "id": "-uBgPVTQsHpc"
      },
      "execution_count": null,
      "outputs": []
    },
    {
      "cell_type": "code",
      "source": [
        "# display first 10 rows\n",
        "\n",
        "print(df.head(10))"
      ],
      "metadata": {
        "colab": {
          "base_uri": "https://localhost:8080/"
        },
        "id": "cH0HG7KFsI-w",
        "outputId": "918178d2-736c-4280-ebdc-5082fd41f8f9"
      },
      "execution_count": null,
      "outputs": [
        {
          "output_type": "stream",
          "name": "stdout",
          "text": [
            "  product_id                     name        category strain_type  \\\n",
            "0       p001             OG Kush 3.5g          Flower      Sativa   \n",
            "1       p002       Sour Diesel 1000mg     Concentrate      Hybrid   \n",
            "2       p003      Blue Dream One Gram     Concentrate      Sativa   \n",
            "3       p004  Sour Diesel - 50 pieces          Edible      Sativa   \n",
            "4       p005         Sour Diesel - 7g          Flower      Sativa   \n",
            "5       p006      CA Gold Rush 1/8 oz          Flower      Indica   \n",
            "6       p007          Blue Dream 100g          Edible      Hybrid   \n",
            "7       p008           OG Kush 1000mg     Concentrate      Indica   \n",
            "8       p009    Green Crack Half Gram  Vape Cartridge      Sativa   \n",
            "9       p010        Wedding Cake - 7g          Flower      Indica   \n",
            "\n",
            "         strain            vendor  THC_pct  CBD_pct  potency_mg  price_usd  \\\n",
            "0       OG Kush      Herbal Haven     28.5      0.8         NaN      54.36   \n",
            "1   Sour Diesel        CannaWorld     84.0      1.9       750.0      46.02   \n",
            "2    Blue Dream        Pure Bloom     84.4      0.5       750.0      54.85   \n",
            "3   Sour Diesel      Herbal Haven     17.2      0.3       100.0      23.85   \n",
            "4   Sour Diesel      Happy Trails     22.9      0.5         NaN      94.93   \n",
            "5  CA Gold Rush        Zen Garden     21.0      0.9         NaN      38.01   \n",
            "6    Blue Dream  Elevate Extracts     19.6      0.2        50.0      26.71   \n",
            "7       OG Kush  Elevate Extracts     73.6      0.2      1000.0      53.16   \n",
            "8   Green Crack        Pure Bloom     69.7      0.4       750.0      40.69   \n",
            "9  Wedding Cake      Happy Trails     17.1      3.7         NaN      99.45   \n",
            "\n",
            "   availability                                        description  \\\n",
            "0           833  OG Kush Sativa flower with energetic, euphoric...   \n",
            "1           144  Sour Diesel Hybrid concentrate with sleepy, en...   \n",
            "2           954  Blue Dream Sativa concentrate with uplifting, ...   \n",
            "3           132  Sour Diesel Sativa edible with cerebral, creat...   \n",
            "4           324  Sour Diesel Sativa flower with cerebral, eupho...   \n",
            "5           649  CA Gold Rush Indica flower with body high, rel...   \n",
            "6            68  Blue Dream Hybrid edible with pain relief, ene...   \n",
            "7           993  OG Kush Indica concentrate with sleepy, calmin...   \n",
            "8            81  Green Crack Sativa vape cartridge with euphori...   \n",
            "9           520  Wedding Cake Indica flower with calming, sleep...   \n",
            "\n",
            "                                                tags  date_added  \n",
            "0                   [energetic, euphoric, uplifting]  2025-07-29  \n",
            "1  [sleepy, energetic, creative, pain relief, upl...  2025-06-10  \n",
            "2                     [uplifting, focused, creative]  2025-05-17  \n",
            "3                    [cerebral, creative, uplifting]  2025-05-04  \n",
            "4            [cerebral, euphoric, focused, creative]  2025-03-20  \n",
            "5                              [body high, relaxing]  2025-04-22  \n",
            "6                 [pain relief, energetic, creative]  2025-02-13  \n",
            "7                       [sleepy, calming, body high]  2025-07-18  \n",
            "8                   [euphoric, energetic, uplifting]  2025-02-28  \n",
            "9   [calming, sleepy, relaxing, body high, sedative]  2025-06-12  \n"
          ]
        }
      ]
    },
    {
      "cell_type": "code",
      "source": [
        "# convert df to csv\n",
        "\n",
        "df.to_csv('cannabis-prod-data.csv', index = False)\n",
        "\n",
        "# download the file\n",
        "\n",
        "from google.colab import files\n",
        "\n",
        "files.download('cannabis-prod-data.csv')"
      ],
      "metadata": {
        "colab": {
          "base_uri": "https://localhost:8080/",
          "height": 17
        },
        "id": "U2p97RqbsKxd",
        "outputId": "24bafa78-4898-46c3-c627-c019fed6c8ff"
      },
      "execution_count": null,
      "outputs": [
        {
          "output_type": "display_data",
          "data": {
            "text/plain": [
              "<IPython.core.display.Javascript object>"
            ],
            "application/javascript": [
              "\n",
              "    async function download(id, filename, size) {\n",
              "      if (!google.colab.kernel.accessAllowed) {\n",
              "        return;\n",
              "      }\n",
              "      const div = document.createElement('div');\n",
              "      const label = document.createElement('label');\n",
              "      label.textContent = `Downloading \"${filename}\": `;\n",
              "      div.appendChild(label);\n",
              "      const progress = document.createElement('progress');\n",
              "      progress.max = size;\n",
              "      div.appendChild(progress);\n",
              "      document.body.appendChild(div);\n",
              "\n",
              "      const buffers = [];\n",
              "      let downloaded = 0;\n",
              "\n",
              "      const channel = await google.colab.kernel.comms.open(id);\n",
              "      // Send a message to notify the kernel that we're ready.\n",
              "      channel.send({})\n",
              "\n",
              "      for await (const message of channel.messages) {\n",
              "        // Send a message to notify the kernel that we're ready.\n",
              "        channel.send({})\n",
              "        if (message.buffers) {\n",
              "          for (const buffer of message.buffers) {\n",
              "            buffers.push(buffer);\n",
              "            downloaded += buffer.byteLength;\n",
              "            progress.value = downloaded;\n",
              "          }\n",
              "        }\n",
              "      }\n",
              "      const blob = new Blob(buffers, {type: 'application/binary'});\n",
              "      const a = document.createElement('a');\n",
              "      a.href = window.URL.createObjectURL(blob);\n",
              "      a.download = filename;\n",
              "      div.appendChild(a);\n",
              "      a.click();\n",
              "      div.remove();\n",
              "    }\n",
              "  "
            ]
          },
          "metadata": {}
        },
        {
          "output_type": "display_data",
          "data": {
            "text/plain": [
              "<IPython.core.display.Javascript object>"
            ],
            "application/javascript": [
              "download(\"download_da4216dc-c917-4ff8-aaa9-8274674897a6\", \"cannabis-prod-data.csv\", 21537)"
            ]
          },
          "metadata": {}
        }
      ]
    }
  ]
}