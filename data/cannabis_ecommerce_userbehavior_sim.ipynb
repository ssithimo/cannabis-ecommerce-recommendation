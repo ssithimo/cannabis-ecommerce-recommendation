{
  "nbformat": 4,
  "nbformat_minor": 0,
  "metadata": {
    "colab": {
      "provenance": []
    },
    "kernelspec": {
      "name": "python3",
      "display_name": "Python 3"
    },
    "language_info": {
      "name": "python"
    }
  },
  "cells": [
    {
      "cell_type": "code",
      "execution_count": 1,
      "metadata": {
        "id": "INxn_O2d6JJR"
      },
      "outputs": [],
      "source": [
        "#load libraries\n",
        "\n",
        "import random\n",
        "import pandas as pd\n",
        "import numpy as np\n",
        "from datetime import datetime, timedelta"
      ]
    },
    {
      "cell_type": "code",
      "source": [
        "#set seed\n",
        "random.seed(42)\n",
        "np.random.seed(42)"
      ],
      "metadata": {
        "id": "5GtguQCo3emx"
      },
      "execution_count": 2,
      "outputs": []
    },
    {
      "cell_type": "code",
      "source": [
        "# load product dataset\n",
        "import pandas as pd\n",
        "product_df = pd.read_csv('cannabis-prod-data.csv')\n",
        "\n",
        "# create map key = product_id, value = availability\n",
        "product_avail_map = product_df.set_index('product_id')['availability'].to_dict()"
      ],
      "metadata": {
        "id": "nuo-3Z6lMkrj"
      },
      "execution_count": 4,
      "outputs": []
    },
    {
      "cell_type": "code",
      "source": [
        "#assuming we have the same product ids from our product dataset p001, p002, ... , p100\n",
        "\n",
        "product_ids = list(product_avail_map.keys())"
      ],
      "metadata": {
        "id": "-wDNZsJn3iQi"
      },
      "execution_count": 5,
      "outputs": []
    },
    {
      "cell_type": "code",
      "source": [
        "#generate 1000 user ids\n",
        "user_ids = [f\"u{i:04d}\" for i in range(1, 1001)]"
      ],
      "metadata": {
        "id": "KPpVqaL33yS6"
      },
      "execution_count": 6,
      "outputs": []
    },
    {
      "cell_type": "code",
      "source": [
        "# possible funnel event types with probabilities\n",
        "\n",
        "event_types = {\n",
        "    \"view\": 1.0,\n",
        "    \"click\": 0.70, #70% leads to clicks\n",
        "    \"save\": 0.10,  #10% from clicks results in save for later\n",
        "    \"cart\": 0.50,  #50% from clicks that aren't saved are added to the cart\n",
        "    \"buy\": 0.80}   #80% of carts lead to purchases"
      ],
      "metadata": {
        "id": "aSRErY0I3zNo"
      },
      "execution_count": 7,
      "outputs": []
    },
    {
      "cell_type": "code",
      "source": [
        "# ratings\n",
        "\n",
        "rating_choices = [1, 2, 3, 4, 5]\n",
        "rating_probs = [0.05, 0.15, 0.20, 0.30, 0.30]"
      ],
      "metadata": {
        "id": "-rxa63YgcSMj"
      },
      "execution_count": 8,
      "outputs": []
    },
    {
      "cell_type": "code",
      "source": [
        "# create a fct to generate a random timestamp within the last 90 days\n",
        "\n",
        "def random_timestamp():\n",
        "    start = datetime.now() - timedelta(days = 90)\n",
        "    random_days = random.randint(0, 90)\n",
        "    random_hours = random.randint(0, 23)\n",
        "    random_minutes = random.randint(0, 59)\n",
        "    random_seconds = random.randint(0, 59)\n",
        "    return start + timedelta(days = random_days, hours = random_hours,\n",
        "                             minutes = random_minutes, seconds = random_seconds)"
      ],
      "metadata": {
        "id": "iuPSB7Hz4jiL"
      },
      "execution_count": 9,
      "outputs": []
    },
    {
      "cell_type": "code",
      "source": [
        "# list to hold interation rows\n",
        "interactions = []"
      ],
      "metadata": {
        "id": "qhEntPe945t6"
      },
      "execution_count": 10,
      "outputs": []
    },
    {
      "cell_type": "code",
      "source": [
        "# simulate interactions\n",
        "# events occur when random number is less than or equal to prob of event since\n",
        "# random.random() makes number between 0 and 1\n",
        "\n",
        "for user in user_ids:\n",
        "  # number of products this user interacts with 5 to 20\n",
        "  n_products = random.randint(5, 20)\n",
        "  products_sample = random.sample(product_ids, n_products)\n",
        "\n",
        "  for product in products_sample:\n",
        "    # start at view\n",
        "    timestamp = random_timestamp()\n",
        "    interactions.append({\n",
        "        \"user_id\": user,\n",
        "        \"product_id\": product,\n",
        "        \"event_type\": \"view\",\n",
        "        \"timestamp\": timestamp,\n",
        "        \"rating\": None,\n",
        "        \"quantity\": None })\n",
        "\n",
        "    #funnel stage 1: click\n",
        "    if random.random() <= event_types[\"click\"]:\n",
        "      timestamp += timedelta(minutes = random.randint(0, 5)) #0-5 min from view to click\n",
        "      interactions.append({\n",
        "          \"user_id\": user,\n",
        "          \"product_id\": product,\n",
        "          \"event_type\": \"click\",\n",
        "          \"timestamp\": timestamp,\n",
        "          \"rating\": None,\n",
        "          \"quantity\": None })\n",
        "\n",
        "      #decide between save and cart\n",
        "      if random.random() <= event_types[\"save\"]:\n",
        "        timestamp += timedelta(minutes = random.randint(1, 10)) #1-10min from click to save/cart\n",
        "        interactions.append({\n",
        "          \"user_id\": user,\n",
        "          \"product_id\": product,\n",
        "          \"event_type\": \"click\",\n",
        "          \"timestamp\": timestamp,\n",
        "          \"rating\": None,\n",
        "          \"quantity\": None })\n",
        "\n",
        "        continue #stop here for save\n",
        "\n",
        "      elif random.random() <= event_types[\"cart\"]:\n",
        "        avail = product_avail_map.get(product, 0)\n",
        "        if avail > 0:\n",
        "          max_qty = min(avail, 10) #cap max cart qty at 10 or availability whichever is smaller\n",
        "          quantity = random.randint(1, max_qty) #if more than 0, can only buy 1 to max_qty\n",
        "        else:\n",
        "          quantity = None\n",
        "\n",
        "        timestamp += timedelta(minutes = random.randint(1, 10))\n",
        "        interactions.append({\n",
        "          \"user_id\": user,\n",
        "          \"product_id\": product,\n",
        "          \"event_type\": \"cart\",\n",
        "          \"timestamp\": timestamp,\n",
        "          \"rating\": None,\n",
        "          \"quantity\": quantity })\n",
        "\n",
        "        # funnel step 3: buy\n",
        "        # only buy if quantity is true (false when none) and random.random() < p.event is true\n",
        "        if quantity and random.random() <= event_types[\"buy\"]:\n",
        "          timestamp += timedelta(minutes = random.randint(5, 20)) #5-20 from cart to buy\n",
        "          product_avail_map[product] -= quantity #subtract from availability\n",
        "          rating = random.choices(rating_choices,\n",
        "                                  weights = rating_probs, k = 1)[0]\n",
        "          interactions.append({\n",
        "              \"user_id\": user,\n",
        "              \"product_id\": product,\n",
        "              \"event_type\": \"buy\",\n",
        "              \"timestamp\": timestamp,\n",
        "              \"rating\": rating,\n",
        "              \"quantity\": quantity })"
      ],
      "metadata": {
        "id": "7h7-1-gy48-x"
      },
      "execution_count": 11,
      "outputs": []
    },
    {
      "cell_type": "code",
      "source": [
        "#convert to df and sort by timestamp\n",
        "df_interactions = pd.DataFrame(interactions)\n",
        "df_interactions = df_interactions.sort_values(\"timestamp\").reset_index(drop = True)"
      ],
      "metadata": {
        "id": "P6BKLkHG6JU3"
      },
      "execution_count": 12,
      "outputs": []
    },
    {
      "cell_type": "code",
      "source": [
        "# show first 10 rows\n",
        "print(df_interactions.head(10))"
      ],
      "metadata": {
        "colab": {
          "base_uri": "https://localhost:8080/"
        },
        "id": "4RIzSJS76TcV",
        "outputId": "7236e009-1e4e-4e89-d527-c2718dc96def"
      },
      "execution_count": 13,
      "outputs": [
        {
          "output_type": "stream",
          "name": "stdout",
          "text": [
            "  user_id product_id event_type                  timestamp  rating  quantity\n",
            "0   u0318       p084       view 2025-05-17 00:46:51.853052     NaN       NaN\n",
            "1   u0374       p072       view 2025-05-17 00:50:12.863955     NaN       NaN\n",
            "2   u0711       p087       view 2025-05-17 01:01:42.930708     NaN       NaN\n",
            "3   u0928       p087       view 2025-05-17 01:09:47.040863     NaN       NaN\n",
            "4   u0852       p082       view 2025-05-17 01:10:59.959620     NaN       NaN\n",
            "5   u0852       p082      click 2025-05-17 01:11:59.959620     NaN       NaN\n",
            "6   u0986       p009       view 2025-05-17 01:14:30.100735     NaN       NaN\n",
            "7   u0298       p058       view 2025-05-17 01:17:42.849450     NaN       NaN\n",
            "8   u0298       p058      click 2025-05-17 01:22:42.849450     NaN       NaN\n",
            "9   u0556       p061      click 2025-05-17 01:24:11.899913     NaN       NaN\n"
          ]
        }
      ]
    },
    {
      "cell_type": "code",
      "source": [
        "# how many buy events\n",
        "print(df_interactions[df_interactions[\"event_type\"] == \"buy\"][\"user_id\"].count())"
      ],
      "metadata": {
        "colab": {
          "base_uri": "https://localhost:8080/"
        },
        "id": "FavUDqM16c4K",
        "outputId": "1500a8e9-2bb7-4d6e-dd41-5578a647845e"
      },
      "execution_count": 14,
      "outputs": [
        {
          "output_type": "stream",
          "name": "stdout",
          "text": [
            "2604\n"
          ]
        }
      ]
    },
    {
      "cell_type": "code",
      "source": [
        "# how many unique users had a buy event type\n",
        "print(df_interactions[df_interactions[\"event_type\"] == \"buy\"][\"user_id\"].nunique())"
      ],
      "metadata": {
        "colab": {
          "base_uri": "https://localhost:8080/"
        },
        "id": "kTleh7q9Z22P",
        "outputId": "971f2d64-14c7-454b-c27c-003f27fb8c35"
      },
      "execution_count": 15,
      "outputs": [
        {
          "output_type": "stream",
          "name": "stdout",
          "text": [
            "907\n"
          ]
        }
      ]
    },
    {
      "cell_type": "code",
      "source": [
        "print(df_interactions[df_interactions[\"event_type\"] == \"buy\"])"
      ],
      "metadata": {
        "colab": {
          "base_uri": "https://localhost:8080/"
        },
        "id": "I6EP12KgaEGb",
        "outputId": "1997b385-34b0-4ec0-82ce-3c1e3328a110"
      },
      "execution_count": 16,
      "outputs": [
        {
          "output_type": "stream",
          "name": "stdout",
          "text": [
            "      user_id product_id event_type                  timestamp  rating  \\\n",
            "14      u0298       p058        buy 2025-05-17 01:38:42.849450     2.0   \n",
            "21      u0227       p058        buy 2025-05-17 01:59:08.835540     5.0   \n",
            "28      u0251       p048        buy 2025-05-17 02:51:05.840370     3.0   \n",
            "37      u0520       p026        buy 2025-05-17 03:21:50.892926     4.0   \n",
            "42      u0636       p028        buy 2025-05-17 03:46:26.915791     3.0   \n",
            "...       ...        ...        ...                        ...     ...   \n",
            "28963   u0627       p063        buy 2025-08-15 20:14:11.914110     2.0   \n",
            "28968   u0856       p078        buy 2025-08-15 20:37:45.960707     5.0   \n",
            "28978   u0651       p017        buy 2025-08-15 21:51:29.918447     2.0   \n",
            "28992   u0714       p082        buy 2025-08-15 23:01:33.931232     5.0   \n",
            "29008   u0287       p013        buy 2025-08-15 23:57:55.847335     5.0   \n",
            "\n",
            "       quantity  \n",
            "14          6.0  \n",
            "21          5.0  \n",
            "28          9.0  \n",
            "37          7.0  \n",
            "42          9.0  \n",
            "...         ...  \n",
            "28963      10.0  \n",
            "28968      10.0  \n",
            "28978       3.0  \n",
            "28992       3.0  \n",
            "29008      10.0  \n",
            "\n",
            "[2604 rows x 6 columns]\n"
          ]
        }
      ]
    },
    {
      "cell_type": "code",
      "source": [
        "df_interactions.info()"
      ],
      "metadata": {
        "colab": {
          "base_uri": "https://localhost:8080/"
        },
        "id": "JPb1IF0A6o_u",
        "outputId": "0be43260-84b0-4afa-e9b6-f291d15fa346"
      },
      "execution_count": 17,
      "outputs": [
        {
          "output_type": "stream",
          "name": "stdout",
          "text": [
            "<class 'pandas.core.frame.DataFrame'>\n",
            "RangeIndex: 29010 entries, 0 to 29009\n",
            "Data columns (total 6 columns):\n",
            " #   Column      Non-Null Count  Dtype         \n",
            "---  ------      --------------  -----         \n",
            " 0   user_id     29010 non-null  object        \n",
            " 1   product_id  29010 non-null  object        \n",
            " 2   event_type  29010 non-null  object        \n",
            " 3   timestamp   29010 non-null  datetime64[ns]\n",
            " 4   rating      2604 non-null   float64       \n",
            " 5   quantity    5847 non-null   float64       \n",
            "dtypes: datetime64[ns](1), float64(2), object(3)\n",
            "memory usage: 1.3+ MB\n"
          ]
        }
      ]
    },
    {
      "cell_type": "code",
      "source": [
        "# convert df to csv\n",
        "\n",
        "df_interactions.to_csv('cannabis-user-data.csv', index = False)\n",
        "\n",
        "# download the file\n",
        "\n",
        "from google.colab import files\n",
        "\n",
        "files.download('cannabis-user-data.csv')"
      ],
      "metadata": {
        "colab": {
          "base_uri": "https://localhost:8080/",
          "height": 17
        },
        "id": "R5IQLy2t7jCq",
        "outputId": "e0c115a3-159f-4c68-8645-5aa3063a488a"
      },
      "execution_count": 18,
      "outputs": [
        {
          "output_type": "display_data",
          "data": {
            "text/plain": [
              "<IPython.core.display.Javascript object>"
            ],
            "application/javascript": [
              "\n",
              "    async function download(id, filename, size) {\n",
              "      if (!google.colab.kernel.accessAllowed) {\n",
              "        return;\n",
              "      }\n",
              "      const div = document.createElement('div');\n",
              "      const label = document.createElement('label');\n",
              "      label.textContent = `Downloading \"${filename}\": `;\n",
              "      div.appendChild(label);\n",
              "      const progress = document.createElement('progress');\n",
              "      progress.max = size;\n",
              "      div.appendChild(progress);\n",
              "      document.body.appendChild(div);\n",
              "\n",
              "      const buffers = [];\n",
              "      let downloaded = 0;\n",
              "\n",
              "      const channel = await google.colab.kernel.comms.open(id);\n",
              "      // Send a message to notify the kernel that we're ready.\n",
              "      channel.send({})\n",
              "\n",
              "      for await (const message of channel.messages) {\n",
              "        // Send a message to notify the kernel that we're ready.\n",
              "        channel.send({})\n",
              "        if (message.buffers) {\n",
              "          for (const buffer of message.buffers) {\n",
              "            buffers.push(buffer);\n",
              "            downloaded += buffer.byteLength;\n",
              "            progress.value = downloaded;\n",
              "          }\n",
              "        }\n",
              "      }\n",
              "      const blob = new Blob(buffers, {type: 'application/binary'});\n",
              "      const a = document.createElement('a');\n",
              "      a.href = window.URL.createObjectURL(blob);\n",
              "      a.download = filename;\n",
              "      div.appendChild(a);\n",
              "      a.click();\n",
              "      div.remove();\n",
              "    }\n",
              "  "
            ]
          },
          "metadata": {}
        },
        {
          "output_type": "display_data",
          "data": {
            "text/plain": [
              "<IPython.core.display.Javascript object>"
            ],
            "application/javascript": [
              "download(\"download_c73ed7e7-db94-4526-b4d9-5f79b8462d18\", \"cannabis-user-data.csv\", 1338610)"
            ]
          },
          "metadata": {}
        }
      ]
    }
  ]
}