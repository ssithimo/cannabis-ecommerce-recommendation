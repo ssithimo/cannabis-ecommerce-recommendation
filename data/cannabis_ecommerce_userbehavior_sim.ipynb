{
  "nbformat": 4,
  "nbformat_minor": 0,
  "metadata": {
    "colab": {
      "provenance": []
    },
    "kernelspec": {
      "name": "python3",
      "display_name": "Python 3"
    },
    "language_info": {
      "name": "python"
    }
  },
  "cells": [
    {
      "cell_type": "code",
      "execution_count": null,
      "metadata": {
        "id": "INxn_O2d6JJR"
      },
      "outputs": [],
      "source": [
        "#load libraries\n",
        "\n",
        "import random\n",
        "import pandas as pd\n",
        "import numpy as np\n",
        "from datetime import datetime, timedelta"
      ]
    },
    {
      "cell_type": "code",
      "source": [
        "#set seed\n",
        "random.seed(42)\n",
        "np.random.seed(42)"
      ],
      "metadata": {
        "id": "5GtguQCo3emx"
      },
      "execution_count": null,
      "outputs": []
    },
    {
      "cell_type": "code",
      "source": [
        "# load product dataset\n",
        "import pandas as pd\n",
        "product_df = pd.read_csv('cannabis-prod-data.csv')\n",
        "\n",
        "# create map key = product_id, value = availability\n",
        "product_avail_map = product_df.set_index('product_id')['availability'].to_dict()"
      ],
      "metadata": {
        "id": "nuo-3Z6lMkrj"
      },
      "execution_count": null,
      "outputs": []
    },
    {
      "cell_type": "code",
      "source": [
        "#assuming we have the same product ids from our product dataset p001, p002, ... , p100\n",
        "\n",
        "product_ids = list(product_avail_map.keys())"
      ],
      "metadata": {
        "id": "-wDNZsJn3iQi"
      },
      "execution_count": null,
      "outputs": []
    },
    {
      "cell_type": "code",
      "source": [
        "#generate 1000 user ids\n",
        "user_ids = [f\"u{i:04d}\" for i in range(1, 1001)]"
      ],
      "metadata": {
        "id": "KPpVqaL33yS6"
      },
      "execution_count": null,
      "outputs": []
    },
    {
      "cell_type": "code",
      "source": [
        "# possible event types with probabilities\n",
        "# they just clicked on the product, they just saved the product to a wishlist,\n",
        "# they just added to the cart without buying, they bought the product\n",
        "\n",
        "event_types = {\n",
        "    \"click\": 0.35,\n",
        "    \"save\": 0.03,\n",
        "    \"cart\": 0.20,\n",
        "    \"buy\": 0.35}"
      ],
      "metadata": {
        "id": "aSRErY0I3zNo"
      },
      "execution_count": null,
      "outputs": []
    },
    {
      "cell_type": "code",
      "source": [
        "# ratings are bimodal you either hate or love it if you rate it\n",
        "\n",
        "rating_choices = [1, 2, 3, 4, 5]\n",
        "rating_probs = [0.25, 0.20, 0.10, 0.25, 0.20]"
      ],
      "metadata": {
        "id": "-rxa63YgcSMj"
      },
      "execution_count": null,
      "outputs": []
    },
    {
      "cell_type": "code",
      "source": [
        "# create a fct to generate a random timestamp within the last 90 days\n",
        "\n",
        "def random_timestamp():\n",
        "    start = datetime.now() - timedelta(days = 90)\n",
        "    random_days = random.randint(0, 90)\n",
        "    random_hours = random.randint(0, 23)\n",
        "    random_minutes = random.randint(0, 59)\n",
        "    random_seconds = random.randint(0, 59)\n",
        "    return start + timedelta(days = random_days, hours = random_hours,\n",
        "                             minutes = random_minutes, seconds = random_seconds)"
      ],
      "metadata": {
        "id": "iuPSB7Hz4jiL"
      },
      "execution_count": null,
      "outputs": []
    },
    {
      "cell_type": "code",
      "source": [
        "# list to hold interation rows\n",
        "interactions = []"
      ],
      "metadata": {
        "id": "qhEntPe945t6"
      },
      "execution_count": null,
      "outputs": []
    },
    {
      "cell_type": "code",
      "source": [
        "# simulate interactions\n",
        "for user in user_ids:\n",
        "  # number of products this user interacts with 5 to 20\n",
        "  n_products = random.randint(5, 20)\n",
        "  products_sample = random.sample(product_ids, n_products)\n",
        "\n",
        "  for product in products_sample:\n",
        "    # number of events per product for this user from 1 to 5\n",
        "    n_events = random.randint(1, 5)\n",
        "\n",
        "    for _ in range(n_events):\n",
        "      event = random.choices(list(event_types.keys()),\n",
        "                                  list(event_types.values()))[0]\n",
        "      timestamp = random_timestamp()\n",
        "\n",
        "      # rating score, quantity bought\n",
        "      rating = None\n",
        "      quantity = None\n",
        "\n",
        "      avail = product_avail_map.get(product, 0)\n",
        "      if event == \"cart\":\n",
        "        if avail > 0:\n",
        "          max_qty = min(avail, 10) #cap max cart qty at 10 or availability whichever is smaller\n",
        "          quantity = random.randint(1, max_qty) #if more than 0, buy 1 to max_qty\n",
        "        else:\n",
        "          event = \"click\"\n",
        "\n",
        "      elif event == \"buy\":\n",
        "        if avail > 0:\n",
        "          max_qty = min(avail, 10)\n",
        "          quantity = random.randint(1, max_qty)\n",
        "          product_avail_map[product] -= quantity #subtract from availability\n",
        "          rating = random.choices(rating_choices,\n",
        "                                  weights=rating_probs, k = 1)[0]\n",
        "        else:\n",
        "          event = \"click\"\n",
        "          quantity = None\n",
        "\n",
        "\n",
        "      interactions.append({\n",
        "          \"user_id\": user,\n",
        "          \"product_id\": product,\n",
        "          \"event_type\": event,\n",
        "          \"timestamp\": timestamp,\n",
        "          \"rating\": rating,\n",
        "          \"quantity\": quantity })"
      ],
      "metadata": {
        "id": "7h7-1-gy48-x"
      },
      "execution_count": null,
      "outputs": []
    },
    {
      "cell_type": "code",
      "source": [
        "#convert to df and sort by timestamp\n",
        "df_interactions = pd.DataFrame(interactions)\n",
        "df_interactions = df_interactions.sort_values(\"timestamp\").reset_index(drop = True)"
      ],
      "metadata": {
        "id": "P6BKLkHG6JU3"
      },
      "execution_count": null,
      "outputs": []
    },
    {
      "cell_type": "code",
      "source": [
        "# show first 10 rows\n",
        "print(df_interactions.head(10))"
      ],
      "metadata": {
        "colab": {
          "base_uri": "https://localhost:8080/"
        },
        "id": "4RIzSJS76TcV",
        "outputId": "a75c781e-5348-4a82-d3c8-7cd9d50571a7"
      },
      "execution_count": null,
      "outputs": [
        {
          "output_type": "stream",
          "name": "stdout",
          "text": [
            "  user_id product_id event_type                  timestamp  rating  quantity\n",
            "0   u0763       p086      click 2025-05-14 04:08:08.493663     NaN       NaN\n",
            "1   u0168       p004      click 2025-05-14 04:11:23.186478     NaN       NaN\n",
            "2   u0656       p081      click 2025-05-14 04:12:25.424196     NaN       NaN\n",
            "3   u0171       p029      click 2025-05-14 04:14:34.187681     NaN       NaN\n",
            "4   u0776       p064      click 2025-05-14 04:15:25.502724     NaN       NaN\n",
            "5   u0818       p084      click 2025-05-14 04:19:25.528061     NaN       NaN\n",
            "6   u0623       p016      click 2025-05-14 04:24:40.403648     NaN       NaN\n",
            "7   u0706       p031      click 2025-05-14 04:27:10.460950     NaN       NaN\n",
            "8   u0914       p099      click 2025-05-14 04:39:06.581217     NaN       NaN\n",
            "9   u0796       p059      click 2025-05-14 04:39:26.514710     NaN       NaN\n"
          ]
        }
      ]
    },
    {
      "cell_type": "code",
      "source": [
        "# how many buy events\n",
        "print(df_interactions[df_interactions[\"event_type\"] == \"buy\"][\"user_id\"].count())"
      ],
      "metadata": {
        "colab": {
          "base_uri": "https://localhost:8080/"
        },
        "id": "FavUDqM16c4K",
        "outputId": "23465f0a-e80d-4614-bb5a-2b3a2c1d89fd"
      },
      "execution_count": null,
      "outputs": [
        {
          "output_type": "stream",
          "name": "stdout",
          "text": [
            "7921\n"
          ]
        }
      ]
    },
    {
      "cell_type": "code",
      "source": [
        "# how many unique users had a buy event type\n",
        "print(df_interactions[df_interactions[\"event_type\"] == \"buy\"][\"user_id\"].nunique())"
      ],
      "metadata": {
        "colab": {
          "base_uri": "https://localhost:8080/"
        },
        "id": "kTleh7q9Z22P",
        "outputId": "1cfc1f9a-84ad-4236-9a9a-a3c6bbb2e497"
      },
      "execution_count": null,
      "outputs": [
        {
          "output_type": "stream",
          "name": "stdout",
          "text": [
            "963\n"
          ]
        }
      ]
    },
    {
      "cell_type": "code",
      "source": [
        "print(df_interactions[df_interactions[\"event_type\"] == \"buy\"])"
      ],
      "metadata": {
        "colab": {
          "base_uri": "https://localhost:8080/"
        },
        "id": "I6EP12KgaEGb",
        "outputId": "c67e4e27-7558-4863-f8c9-d5e2972fc067"
      },
      "execution_count": null,
      "outputs": [
        {
          "output_type": "stream",
          "name": "stdout",
          "text": [
            "      user_id product_id event_type                  timestamp  rating  \\\n",
            "10      u0498       p060        buy 2025-05-14 04:39:35.327513     4.0   \n",
            "11      u0190       p067        buy 2025-05-14 04:39:46.195577     3.0   \n",
            "15      u0522       p026        buy 2025-05-14 04:44:18.345471     1.0   \n",
            "18      u0500       p068        buy 2025-05-14 04:52:44.329086     1.0   \n",
            "25      u0483       p021        buy 2025-05-14 05:21:38.320810     2.0   \n",
            "...       ...        ...        ...                        ...     ...   \n",
            "37279   u0090       p058        buy 2025-08-13 00:48:14.141003     1.0   \n",
            "37290   u0844       p030        buy 2025-08-13 01:45:52.541626     1.0   \n",
            "37298   u0259       p010        buy 2025-08-13 02:34:08.219186     5.0   \n",
            "37301   u0017       p030        buy 2025-08-13 02:41:58.996793     5.0   \n",
            "37303   u0445       p083        buy 2025-08-13 02:53:32.297517     1.0   \n",
            "\n",
            "       quantity  \n",
            "10          4.0  \n",
            "11          6.0  \n",
            "15          2.0  \n",
            "18          2.0  \n",
            "25          1.0  \n",
            "...         ...  \n",
            "37279      10.0  \n",
            "37290       4.0  \n",
            "37298       3.0  \n",
            "37301       4.0  \n",
            "37303       7.0  \n",
            "\n",
            "[7921 rows x 6 columns]\n"
          ]
        }
      ]
    },
    {
      "cell_type": "code",
      "source": [
        "df_interactions.info()"
      ],
      "metadata": {
        "colab": {
          "base_uri": "https://localhost:8080/"
        },
        "id": "JPb1IF0A6o_u",
        "outputId": "2f2e7de3-a473-4d01-8150-8c335614514e"
      },
      "execution_count": null,
      "outputs": [
        {
          "output_type": "stream",
          "name": "stdout",
          "text": [
            "<class 'pandas.core.frame.DataFrame'>\n",
            "RangeIndex: 37312 entries, 0 to 37311\n",
            "Data columns (total 6 columns):\n",
            " #   Column      Non-Null Count  Dtype         \n",
            "---  ------      --------------  -----         \n",
            " 0   user_id     37312 non-null  object        \n",
            " 1   product_id  37312 non-null  object        \n",
            " 2   event_type  37312 non-null  object        \n",
            " 3   timestamp   37312 non-null  datetime64[ns]\n",
            " 4   rating      7921 non-null   float64       \n",
            " 5   quantity    12559 non-null  float64       \n",
            "dtypes: datetime64[ns](1), float64(2), object(3)\n",
            "memory usage: 1.7+ MB\n"
          ]
        }
      ]
    },
    {
      "cell_type": "code",
      "source": [
        "# convert df to csv\n",
        "\n",
        "df_interactions.to_csv('cannabis-user-data.csv', index = False)\n",
        "\n",
        "# download the file\n",
        "\n",
        "from google.colab import files\n",
        "\n",
        "files.download('cannabis-user-data.csv')"
      ],
      "metadata": {
        "colab": {
          "base_uri": "https://localhost:8080/",
          "height": 17
        },
        "id": "R5IQLy2t7jCq",
        "outputId": "90ede914-c9d9-4d9d-e36a-cfd99eb071e4"
      },
      "execution_count": null,
      "outputs": [
        {
          "output_type": "display_data",
          "data": {
            "text/plain": [
              "<IPython.core.display.Javascript object>"
            ],
            "application/javascript": [
              "\n",
              "    async function download(id, filename, size) {\n",
              "      if (!google.colab.kernel.accessAllowed) {\n",
              "        return;\n",
              "      }\n",
              "      const div = document.createElement('div');\n",
              "      const label = document.createElement('label');\n",
              "      label.textContent = `Downloading \"${filename}\": `;\n",
              "      div.appendChild(label);\n",
              "      const progress = document.createElement('progress');\n",
              "      progress.max = size;\n",
              "      div.appendChild(progress);\n",
              "      document.body.appendChild(div);\n",
              "\n",
              "      const buffers = [];\n",
              "      let downloaded = 0;\n",
              "\n",
              "      const channel = await google.colab.kernel.comms.open(id);\n",
              "      // Send a message to notify the kernel that we're ready.\n",
              "      channel.send({})\n",
              "\n",
              "      for await (const message of channel.messages) {\n",
              "        // Send a message to notify the kernel that we're ready.\n",
              "        channel.send({})\n",
              "        if (message.buffers) {\n",
              "          for (const buffer of message.buffers) {\n",
              "            buffers.push(buffer);\n",
              "            downloaded += buffer.byteLength;\n",
              "            progress.value = downloaded;\n",
              "          }\n",
              "        }\n",
              "      }\n",
              "      const blob = new Blob(buffers, {type: 'application/binary'});\n",
              "      const a = document.createElement('a');\n",
              "      a.href = window.URL.createObjectURL(blob);\n",
              "      a.download = filename;\n",
              "      div.appendChild(a);\n",
              "      a.click();\n",
              "      div.remove();\n",
              "    }\n",
              "  "
            ]
          },
          "metadata": {}
        },
        {
          "output_type": "display_data",
          "data": {
            "text/plain": [
              "<IPython.core.display.Javascript object>"
            ],
            "application/javascript": [
              "download(\"download_f400767e-1d27-4b68-ad6a-399f47c53455\", \"cannabis-user-data.csv\", 1757361)"
            ]
          },
          "metadata": {}
        }
      ]
    }
  ]
}